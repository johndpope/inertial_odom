{
 "cells": [
  {
   "cell_type": "markdown",
   "metadata": {},
   "source": [
    "## LSTM example with cosine signal ##"
   ]
  },
  {
   "cell_type": "code",
   "execution_count": 4,
   "metadata": {},
   "outputs": [],
   "source": [
    "import numpy as np \n",
    "# from standard_plots import *\n",
    "\n",
    "from keras.models import Sequential\n",
    "from keras.layers import Dense, LSTM, Dropout\n",
    "from sklearn.preprocessing import MinMaxScaler\n",
    "\n",
    "import matplotlib.pyplot as plt\n",
    "\n",
    "import tensorflow as tf\n",
    "\n",
    "%matplotlib inline"
   ]
  },
  {
   "cell_type": "code",
   "execution_count": 11,
   "metadata": {},
   "outputs": [
    {
     "data": {
      "text/plain": [
       "[<matplotlib.lines.Line2D at 0x7f07dac33748>]"
      ]
     },
     "execution_count": 11,
     "metadata": {},
     "output_type": "execute_result"
    },
    {
     "data": {
      "image/png": "[encoded data removed]",
      "text/plain": [
       "<matplotlib.figure.Figure at 0x7f07dacdebe0>"
      ]
     },
     "metadata": {},
     "output_type": "display_data"
    }
   ],
   "source": [
    "dataset=np.cos(np.arange(1000)*(20*np.pi/1000))[:,None]\n",
    "plt.plot(dataset)"
   ]
  },
  {
   "cell_type": "code",
   "execution_count": 12,
   "metadata": {
    "collapsed": true
   },
   "outputs": [],
   "source": [
    "# convert an array of values into a dataset matrix\n",
    "def create_dataset(dataset, look_back=1):\n",
    "    dataX, dataY = [], []\n",
    "    for i in range(len(dataset)-look_back):\n",
    "        dataX.append(dataset[i:(i+look_back), 0])\n",
    "        dataY.append(dataset[i + look_back, 0])\n",
    "    return np.array(dataX), np.array(dataY)"
   ]
  },
  {
   "cell_type": "code",
   "execution_count": 31,
   "metadata": {},
   "outputs": [
    {
     "name": "stdout",
     "output_type": "stream",
     "text": [
      "train shape (670, 1)\n",
      "trainX shape (650, 20, 1)\n",
      "trainY shape (650,)\n"
     ]
    }
   ],
   "source": [
    "look_back=20\n",
    "scaler=MinMaxScaler(feature_range=(0,1))\n",
    "dataset=scaler.fit_transform(dataset)\n",
    "#split into train and test datasets\n",
    "train_size=int(len(dataset)*0.67)\n",
    "test_size=len(dataset)-train_size\n",
    "train, test=dataset[0:train_size,:],dataset[train_size:len(dataset),:]\n",
    "\n",
    "trainX,trainY=create_dataset(train,look_back)\n",
    "testX,testY=create_dataset(test,look_back)\n",
    "\n",
    "trainX = np.reshape(trainX, (trainX.shape[0], trainX.shape[1], 1))\n",
    "testX = np.reshape(testX, (testX.shape[0], testX.shape[1], 1))\n",
    "\n",
    "print('train shape',train.shape)\n",
    "print('trainX shape',trainX.shape)\n",
    "print('trainY shape',trainY.shape)"
   ]
  },
  {
   "cell_type": "code",
   "execution_count": 32,
   "metadata": {},
   "outputs": [
    {
     "name": "stderr",
     "output_type": "stream",
     "text": [
      "/home/malla/anaconda2/envs/tensorflow35/lib/python3.5/site-packages/ipykernel_launcher.py:4: UserWarning: The `input_dim` and `input_length` arguments in recurrent layers are deprecated. Use `input_shape` instead.\n",
      "  after removing the cwd from sys.path.\n",
      "/home/malla/anaconda2/envs/tensorflow35/lib/python3.5/site-packages/ipykernel_launcher.py:4: UserWarning: Update your `LSTM` call to the Keras 2 API: `LSTM(32, input_shape=(None, 1))`\n",
      "  after removing the cwd from sys.path.\n",
      "/home/malla/anaconda2/envs/tensorflow35/lib/python3.5/site-packages/keras/models.py:851: UserWarning: The `nb_epoch` argument in `fit` has been renamed `epochs`.\n",
      "  warnings.warn('The `nb_epoch` argument in `fit` '\n"
     ]
    },
    {
     "name": "stdout",
     "output_type": "stream",
     "text": [
      "Epoch 1/100\n",
      "5s - loss: 0.0396\n",
      "Epoch 2/100\n",
      "5s - loss: 0.0081\n",
      "Epoch 3/100\n",
      "5s - loss: 0.0063\n",
      "Epoch 4/100\n",
      "5s - loss: 0.0044\n",
      "Epoch 5/100\n",
      "5s - loss: 0.0037\n",
      "Epoch 6/100\n",
      "5s - loss: 0.0035\n",
      "Epoch 7/100\n",
      "5s - loss: 0.0038\n",
      "Epoch 8/100\n",
      "5s - loss: 0.0029\n",
      "Epoch 9/100\n",
      "5s - loss: 0.0027\n",
      "Epoch 10/100\n",
      "5s - loss: 0.0028\n",
      "Epoch 11/100\n",
      "5s - loss: 0.0025\n",
      "Epoch 12/100\n",
      "5s - loss: 0.0026\n",
      "Epoch 13/100\n",
      "5s - loss: 0.0025\n",
      "Epoch 14/100\n",
      "5s - loss: 0.0026\n",
      "Epoch 15/100\n",
      "5s - loss: 0.0027\n",
      "Epoch 16/100\n",
      "5s - loss: 0.0026\n",
      "Epoch 17/100\n",
      "5s - loss: 0.0024\n",
      "Epoch 18/100\n",
      "5s - loss: 0.0023\n",
      "Epoch 19/100\n",
      "5s - loss: 0.0020\n",
      "Epoch 20/100\n",
      "5s - loss: 0.0023\n",
      "Epoch 21/100\n",
      "5s - loss: 0.0024\n",
      "Epoch 22/100\n",
      "5s - loss: 0.0021\n",
      "Epoch 23/100\n",
      "5s - loss: 0.0024\n",
      "Epoch 24/100\n",
      "5s - loss: 0.0022\n",
      "Epoch 25/100\n",
      "5s - loss: 0.0020\n",
      "Epoch 26/100\n",
      "5s - loss: 0.0022\n",
      "Epoch 27/100\n",
      "5s - loss: 0.0023\n",
      "Epoch 28/100\n",
      "5s - loss: 0.0022\n",
      "Epoch 29/100\n",
      "5s - loss: 0.0022\n",
      "Epoch 30/100\n",
      "5s - loss: 0.0024\n",
      "Epoch 31/100\n",
      "5s - loss: 0.0021\n",
      "Epoch 32/100\n",
      "5s - loss: 0.0024\n",
      "Epoch 33/100\n",
      "5s - loss: 0.0024\n",
      "Epoch 34/100\n",
      "5s - loss: 0.0024\n",
      "Epoch 35/100\n",
      "5s - loss: 0.0022\n",
      "Epoch 36/100\n",
      "5s - loss: 0.0024\n",
      "Epoch 37/100\n",
      "5s - loss: 0.0021\n",
      "Epoch 38/100\n",
      "5s - loss: 0.0022\n",
      "Epoch 39/100\n",
      "5s - loss: 0.0021\n",
      "Epoch 40/100\n",
      "5s - loss: 0.0022\n",
      "Epoch 41/100\n",
      "5s - loss: 0.0024\n",
      "Epoch 42/100\n",
      "5s - loss: 0.0021\n",
      "Epoch 43/100\n",
      "5s - loss: 0.0020\n",
      "Epoch 44/100\n",
      "5s - loss: 0.0026\n",
      "Epoch 45/100\n",
      "5s - loss: 0.0022\n",
      "Epoch 46/100\n",
      "5s - loss: 0.0021\n",
      "Epoch 47/100\n",
      "5s - loss: 0.0020\n",
      "Epoch 48/100\n",
      "5s - loss: 0.0022\n",
      "Epoch 49/100\n",
      "5s - loss: 0.0024\n",
      "Epoch 50/100\n",
      "5s - loss: 0.0019\n",
      "Epoch 51/100\n",
      "5s - loss: 0.0022\n",
      "Epoch 52/100\n",
      "5s - loss: 0.0023\n",
      "Epoch 53/100\n",
      "5s - loss: 0.0021\n",
      "Epoch 54/100\n",
      "5s - loss: 0.0020\n",
      "Epoch 55/100\n",
      "5s - loss: 0.0022\n",
      "Epoch 56/100\n",
      "5s - loss: 0.0020\n",
      "Epoch 57/100\n",
      "5s - loss: 0.0020\n",
      "Epoch 58/100\n",
      "5s - loss: 0.0020\n",
      "Epoch 59/100\n",
      "5s - loss: 0.0018\n",
      "Epoch 60/100\n",
      "5s - loss: 0.0020\n",
      "Epoch 61/100\n",
      "5s - loss: 0.0019\n",
      "Epoch 62/100\n",
      "5s - loss: 0.0022\n",
      "Epoch 63/100\n",
      "5s - loss: 0.0023\n",
      "Epoch 64/100\n",
      "5s - loss: 0.0020\n",
      "Epoch 65/100\n",
      "5s - loss: 0.0018\n",
      "Epoch 66/100\n",
      "5s - loss: 0.0019\n",
      "Epoch 67/100\n",
      "5s - loss: 0.0020\n",
      "Epoch 68/100\n",
      "5s - loss: 0.0020\n",
      "Epoch 69/100\n",
      "5s - loss: 0.0021\n",
      "Epoch 70/100\n",
      "5s - loss: 0.0019\n",
      "Epoch 71/100\n",
      "5s - loss: 0.0021\n",
      "Epoch 72/100\n",
      "5s - loss: 0.0021\n",
      "Epoch 73/100\n",
      "5s - loss: 0.0022\n",
      "Epoch 74/100\n",
      "5s - loss: 0.0022\n",
      "Epoch 75/100\n",
      "5s - loss: 0.0021\n",
      "Epoch 76/100\n",
      "5s - loss: 0.0020\n",
      "Epoch 77/100\n",
      "5s - loss: 0.0019\n",
      "Epoch 78/100\n",
      "5s - loss: 0.0019\n",
      "Epoch 79/100\n",
      "5s - loss: 0.0019\n",
      "Epoch 80/100\n",
      "5s - loss: 0.0022\n",
      "Epoch 81/100\n",
      "5s - loss: 0.0019\n",
      "Epoch 82/100\n",
      "5s - loss: 0.0021\n",
      "Epoch 83/100\n",
      "5s - loss: 0.0020\n",
      "Epoch 84/100\n",
      "5s - loss: 0.0020\n",
      "Epoch 85/100\n",
      "5s - loss: 0.0022\n",
      "Epoch 86/100\n",
      "5s - loss: 0.0020\n",
      "Epoch 87/100\n",
      "5s - loss: 0.0023\n",
      "Epoch 88/100\n",
      "5s - loss: 0.0021\n",
      "Epoch 89/100\n",
      "5s - loss: 0.0020\n",
      "Epoch 90/100\n",
      "5s - loss: 0.0020\n",
      "Epoch 91/100\n",
      "5s - loss: 0.0022\n",
      "Epoch 92/100\n",
      "5s - loss: 0.0021\n",
      "Epoch 93/100\n",
      "5s - loss: 0.0024\n",
      "Epoch 94/100\n",
      "5s - loss: 0.0021\n",
      "Epoch 95/100\n",
      "5s - loss: 0.0019\n",
      "Epoch 96/100\n",
      "5s - loss: 0.0021\n",
      "Epoch 97/100\n",
      "5s - loss: 0.0021\n",
      "Epoch 98/100\n",
      "5s - loss: 0.0019\n",
      "Epoch 99/100\n",
      "5s - loss: 0.0019\n",
      "Epoch 100/100\n",
      "5s - loss: 0.0020\n",
      "CPU times: user 27min 1s, sys: 6min 11s, total: 33min 13s\n",
      "Wall time: 9min 10s\n"
     ]
    }
   ],
   "source": [
    "%%time\n",
    "# create and fit the LSTM network\n",
    "batch_size = 1\n",
    "model = Sequential()\n",
    "model.add(LSTM(32,input_dim=1))\n",
    "model.add(Dropout(0.3))\n",
    "model.add(Dense(1))\n",
    "model.compile(loss='mean_squared_error', optimizer='adam')\n",
    "model.fit(trainX, trainY, nb_epoch=100, batch_size=batch_size, verbose=2)"
   ]
  },
  {
   "cell_type": "code",
   "execution_count": 37,
   "metadata": {},
   "outputs": [
    {
     "name": "stdout",
     "output_type": "stream",
     "text": [
      "Train Score:  0.000168519773425\n",
      "Test Score:  0.000181020425965\n"
     ]
    }
   ],
   "source": [
    "trainScore = model.evaluate(trainX, trainY, batch_size=batch_size, verbose=0)\n",
    "print('Train Score: ', trainScore)\n",
    "testScore = model.evaluate(testX[:252], testY[:252], batch_size=batch_size, verbose=0)\n",
    "print('Test Score: ', testScore)"
   ]
  },
  {
   "cell_type": "code",
   "execution_count": 38,
   "metadata": {
    "collapsed": true
   },
   "outputs": [],
   "source": [
    "look_ahead = 250\n",
    "trainPredict = [np.vstack([trainX[-1][1:], trainY[-1]])]\n",
    "predictions = np.zeros((look_ahead,1))\n",
    "for i in range(look_ahead):\n",
    "    prediction = model.predict(np.array([trainPredict[-1]]), batch_size=batch_size)\n",
    "    predictions[i] = prediction\n",
    "    trainPredict.append(np.vstack([trainPredict[-1][1:],prediction]))"
   ]
  },
  {
   "cell_type": "code",
   "execution_count": 40,
   "metadata": {},
   "outputs": [
    {
     "data": {
      "image/png": "[encoded data removed]",
      "text/plain": [
       "<matplotlib.figure.Figure at 0x7f0785acae48>"
      ]
     },
     "metadata": {},
     "output_type": "display_data"
    }
   ],
   "source": [
    "plt.figure(figsize=(12,5))\n",
    "# plt.plot(np.arange(len(trainX)),np.squeeze(trainX))\n",
    "# plt.plot(np.arange(200),scaler.inverse_transform(np.squeeze(trainPredict)[:,None][1:]))\n",
    "# plt.plot(np.arange(200),scaler.inverse_transform(np.squeeze(testY)[:,None][:200]),'r')\n",
    "plt.plot(np.arange(look_ahead),predictions,'r',label=\"prediction\")\n",
    "plt.plot(np.arange(look_ahead),dataset[train_size:(train_size+look_ahead)],label=\"test function\")\n",
    "plt.legend()\n",
    "plt.show()"
   ]
  },
  {
   "cell_type": "markdown",
   "metadata": {},
   "source": [
    "## Stateful LSTMs with wider window"
   ]
  },
  {
   "cell_type": "code",
   "execution_count": 42,
   "metadata": {
    "collapsed": true
   },
   "outputs": [],
   "source": [
    "look_back = 40\n",
    "scaler = MinMaxScaler(feature_range=(0, 1))\n",
    "dataset = scaler.fit_transform(dataset)\n",
    "\n",
    "# split into train and test sets\n",
    "train_size = int(len(dataset) * 0.67)\n",
    "test_size = len(dataset) - train_size\n",
    "train, test = dataset[0:train_size,:], dataset[train_size:len(dataset),:]\n",
    "\n",
    "trainX, trainY = create_dataset(train, look_back)\n",
    "testX, testY = create_dataset(test, look_back)\n",
    "\n",
    "trainX = np.reshape(trainX, (trainX.shape[0], trainX.shape[1], 1))\n",
    "testX = np.reshape(testX, (testX.shape[0], testX.shape[1], 1))"
   ]
  },
  {
   "cell_type": "code",
   "execution_count": 44,
   "metadata": {},
   "outputs": [
    {
     "name": "stderr",
     "output_type": "stream",
     "text": [
      "/home/malla/anaconda2/envs/tensorflow35/lib/python3.5/site-packages/keras/models.py:851: UserWarning: The `nb_epoch` argument in `fit` has been renamed `epochs`.\n",
      "  warnings.warn('The `nb_epoch` argument in `fit` '\n"
     ]
    },
    {
     "name": "stdout",
     "output_type": "stream",
     "text": [
      "CPU times: user 1h 9min 35s, sys: 18min 23s, total: 1h 27min 59s\n",
      "Wall time: 21min 13s\n"
     ]
    }
   ],
   "source": [
    "%%time\n",
    "# create and fit the LSTM network\n",
    "batch_size = 1\n",
    "model = Sequential()\n",
    "# model.add(LSTM(32, batch_input_shape=(batch_size, look_back, 1), stateful=True, return_sequences=True))\n",
    "# model.add(Dropout(0.3))\n",
    "# model.add(LSTM(32, batch_input_shape=(batch_size, look_back, 1), stateful=True, return_sequences=True))\n",
    "# model.add(Dropout(0.3))\n",
    "model.add(LSTM(32, batch_input_shape=(batch_size, look_back, 1), stateful=True))\n",
    "model.add(Dropout(0.3))\n",
    "model.add(Dense(1))\n",
    "model.compile(loss='mean_squared_error', optimizer='adam')\n",
    "for i in range(200):\n",
    "    model.fit(trainX, trainY, nb_epoch=1, batch_size=batch_size, verbose=0, shuffle=False)\n",
    "    model.reset_states()"
   ]
  },
  {
   "cell_type": "code",
   "execution_count": 45,
   "metadata": {},
   "outputs": [
    {
     "name": "stdout",
     "output_type": "stream",
     "text": [
      "Train Score:  0.000333469831636\n",
      "Test Score:  0.000337641414919\n"
     ]
    }
   ],
   "source": [
    "trainScore = model.evaluate(trainX, trainY, batch_size=batch_size, verbose=0)\n",
    "print('Train Score: ', trainScore)\n",
    "testScore = model.evaluate(testX[:252], testY[:252], batch_size=batch_size, verbose=0)\n",
    "print('Test Score: ', testScore)"
   ]
  }
 ],
 "metadata": {
  "kernelspec": {
   "display_name": "Python 3",
   "language": "python",
   "name": "python3"
  },
  "language_info": {
   "codemirror_mode": {
    "name": "ipython",
    "version": 3
   },
   "file_extension": ".py",
   "mimetype": "text/x-python",
   "name": "python",
   "nbconvert_exporter": "python",
   "pygments_lexer": "ipython3",
   "version": "3.5.3"
  }
 },
 "nbformat": 4,
 "nbformat_minor": 2
}
